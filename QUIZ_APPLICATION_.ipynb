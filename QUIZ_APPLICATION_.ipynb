{
  "nbformat": 4,
  "nbformat_minor": 0,
  "metadata": {
    "colab": {
      "provenance": [],
      "authorship_tag": "ABX9TyOqlocjPNqtsMn96E5SMOaf",
      "include_colab_link": true
    },
    "kernelspec": {
      "name": "python3",
      "display_name": "Python 3"
    },
    "language_info": {
      "name": "python"
    }
  },
  "cells": [
    {
      "cell_type": "markdown",
      "metadata": {
        "id": "view-in-github",
        "colab_type": "text"
      },
      "source": [
        "<a href=\"https://colab.research.google.com/github/BonaAdamTC/new_repo/blob/main/QUIZ_APPLICATION_.ipynb\" target=\"_parent\"><img src=\"https://colab.research.google.com/assets/colab-badge.svg\" alt=\"Open In Colab\"/></a>"
      ]
    },
    {
      "cell_type": "code",
      "execution_count": null,
      "metadata": {
        "id": "exsMrOUn8PMy"
      },
      "outputs": [],
      "source": [
        "import random"
      ]
    },
    {
      "cell_type": "code",
      "source": [
        "# Display a welcome message\n",
        "print(\"Hello, Welcome to the Python Programming Beginner level's Quiz!\\n\")\n",
        "print(\"Choose the appropriate option in the questions given\\n\")"
      ],
      "metadata": {
        "colab": {
          "base_uri": "https://localhost:8080/"
        },
        "id": "-XDws1r48zFn",
        "outputId": "6eba0a75-6648-4b58-d484-346a1c077c85"
      },
      "execution_count": null,
      "outputs": [
        {
          "output_type": "stream",
          "name": "stdout",
          "text": [
            "Hello, Welcome to the Python Programming Beginner level's Quiz!\n",
            "\n",
            "Choose the appropriate option in the questions given\n",
            "\n"
          ]
        }
      ]
    },
    {
      "cell_type": "code",
      "source": [
        "# List of questions on Python programming with question numbers and hints\n",
        "questions = [\n",
        "    {\n",
        "        \"number\": 1,\n",
        "        \"question\": \"What is the correct file extension for Python files?\",\n",
        "        \"options\": [\"A. .pt\", \"B. .py\", \"C. .pyt\", \"D. .python\"],\n",
        "        \"answer\": \"B\"\n",
        "    },\n",
        "    {\n",
        "        \"number\": 2,\n",
        "        \"question\": \"How do you create a variable with the value 5 in Python?\",\n",
        "        \"options\": [\"A. x = 5\", \"B. int x = 5\", \"C. x := 5\", \"D. x <- 5\"],\n",
        "        \"answer\": \"A\"\n",
        "    },\n",
        "    {\n",
        "        \"number\": 3,\n",
        "        \"question\": \"How do you insert comments in Python code?\",\n",
        "        \"options\": [\"A. // comment\", \"B. <!-- comment -->\", \"C. # comment\", \"D. /* comment */\"],\n",
        "        \"answer\": \"C\"\n",
        "    },\n",
        "    {\n",
        "        \"number\": 4,\n",
        "        \"question\": \"Which function is used to print output in Python?\",\n",
        "        \"options\": [\"A. print()\", \"B. echo()\", \"C. write()\", \"D. output()\"],\n",
        "        \"answer\": \"A\"\n",
        "    },\n",
        "    {\n",
        "        \"number\": 5,\n",
        "        \"question\": \"How do you get the data type of a variable in Python?\",\n",
        "        \"options\": [\"A. datatype()\", \"B. typeof()\", \"C. gettype()\", \"D. type()\"],\n",
        "        \"answer\": \"D\"\n",
        "    },\n",
        "    {\n",
        "        \"number\": 6,\n",
        "        \"question\": \"What is the correct way to create a function in Python?\",\n",
        "        \"options\": [\"A. function myFunction()\", \"B. def myFunction():\", \"C. create myFunction()\", \"D. function: myFunction()\"],\n",
        "        \"answer\": \"B\"\n",
        "    },\n",
        "    {\n",
        "        \"number\": 7,\n",
        "        \"question\": \"Which of the following is used to define a block of code in Python?\",\n",
        "        \"options\": [\"A. Curly braces {}\", \"B. Indentation\", \"C. Parentheses ()\", \"D. Square brackets []\"],\n",
        "        \"answer\": \"B\"\n",
        "    },\n",
        "    {\n",
        "        \"number\": 8,\n",
        "        \"question\": \"What keyword is used to create a loop in Python?\",\n",
        "        \"options\": [\"A. loop\", \"B. iterate\", \"C. for\", \"D. repeat\"],\n",
        "        \"answer\": \"C\"\n",
        "    },\n",
        "    {\n",
        "        \"number\": 9,\n",
        "        \"question\": \"How do you start a conditional statement in Python?\",\n",
        "        \"options\": [\"A. if (x > y):\", \"B. when (x > y)\", \"C. if x > y then:\", \"D. when x > y:\"],\n",
        "        \"answer\": \"A\"\n",
        "    },\n",
        "    {\n",
        "        \"number\": 10,\n",
        "        \"question\": \"What data type is used for text in Python?\",\n",
        "        \"options\": [\"A. int\", \"B. str\", \"C. text\", \"D. char\"],\n",
        "        \"answer\": \"B\"\n",
        "    }\n",
        "]"
      ],
      "metadata": {
        "id": "CTfJHh6J8zwf"
      },
      "execution_count": null,
      "outputs": []
    },
    {
      "cell_type": "code",
      "source": [
        "# Shuffle the questions to present them in a random order\n",
        "random.shuffle(questions)"
      ],
      "metadata": {
        "id": "e0Ns3D5280KB"
      },
      "execution_count": null,
      "outputs": []
    },
    {
      "cell_type": "code",
      "source": [
        "def ask_question(question):\n",
        "    # Display the question number and text\n",
        "    print(f\"Question {question['number']}: {question['question']}\")\n",
        "\n",
        "    # Display the options\n",
        "    for option in question[\"options\"]:\n",
        "        print(option)\n",
        "\n",
        "    # Collect and validate user's answer\n",
        "    while True:\n",
        "        answer = input(\"Your answer (A, B, C, or D): \").upper()\n",
        "        if answer in ['A', 'B', 'C', 'D']:\n",
        "            return answer\n",
        "        else:\n",
        "            print(\"Invalid input. Please choose A, B, C, or D.\")"
      ],
      "metadata": {
        "id": "sLrrd03C80gu"
      },
      "execution_count": null,
      "outputs": []
    },
    {
      "cell_type": "code",
      "source": [
        "def check_answer(user_answer, correct_answer):\n",
        "    # Check if the user's answer is correct\n",
        "    return user_answer == correct_answer"
      ],
      "metadata": {
        "id": "R0YW5hhG80ui"
      },
      "execution_count": null,
      "outputs": []
    },
    {
      "cell_type": "code",
      "source": [
        "def calculate_score(correct_count, total_questions):\n",
        "    # Calculate score as a percentage\n",
        "    return (correct_count / total_questions) * 100"
      ],
      "metadata": {
        "id": "2IbV1rTP81nX"
      },
      "execution_count": null,
      "outputs": []
    },
    {
      "cell_type": "code",
      "source": [
        "def display_result(score, pass_mark=50):\n",
        "    # Check if the user's score meets or exceeds the pass mark\n",
        "    if score >= pass_mark:\n",
        "        print(f\"Congratulations! You passed with a score of {score:.2f}%.\")\n",
        "    else:\n",
        "        print(f\"Sorry, you failed with a score of {score:.2f}%. Better luck next time.\")"
      ],
      "metadata": {
        "id": "5RRUapjB818P"
      },
      "execution_count": null,
      "outputs": []
    },
    {
      "cell_type": "code",
      "source": [
        "def display_summary(correct_answers, total_questions):\n",
        "    print(\"\\n--- Quiz Summary ---\")\n",
        "    print(f\"Total Questions: {total_questions}\")\n",
        "    print(f\"Correct Answers: {correct_answers}\")\n",
        "    print(f\"Incorrect Answers: {total_questions - correct_answers}\")"
      ],
      "metadata": {
        "id": "4HB1mx-l82O_"
      },
      "execution_count": null,
      "outputs": []
    },
    {
      "cell_type": "code",
      "source": [
        "def main():\n",
        "    correct_answers = 0\n",
        "    total_questions = len(questions)\n",
        "\n",
        "    # Loop through each question, ask and check the answer\n",
        "    for question in questions:\n",
        "        user_answer = ask_question(question)\n",
        "        if check_answer(user_answer, question[\"answer\"]):\n",
        "            print(\"Correct!\\n\")\n",
        "            correct_answers += 1\n",
        "        else:\n",
        "            print(f\"Wrong. The correct answer was {question['answer']}.\\n\")\n",
        "\n",
        "    # Calculate the score\n",
        "    score = calculate_score(correct_answers, total_questions)\n",
        "\n",
        "    # Display the final result and summary\n",
        "    display_result(score)\n",
        "    display_summary(correct_answers, total_questions)\n",
        "\n",
        "# Run the main function to start the quiz\n",
        "main()"
      ],
      "metadata": {
        "id": "kQi63n9S82hd"
      },
      "execution_count": null,
      "outputs": []
    }
  ]
}